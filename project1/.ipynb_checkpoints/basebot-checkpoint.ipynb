{
 "cells": [
  {
   "cell_type": "code",
   "execution_count": 1,
   "metadata": {},
   "outputs": [],
   "source": [
    ";;; Project 1, 6.001, Spring 2005\n",
    "\n",
    ";;; idea is to simulate a baseball robot\n",
    "\n",
    ";; imagine hitting a ball with an initial velocity of v \n",
    ";; at an angle alpha from the horizontal, at a height h\n",
    ";; we would like to know how far the ball travels.\n",
    "\n",
    ";; as a first step, we can just model this with simple physics\n",
    ";; so the equations of motion for the ball have a vertical and a \n",
    ";; horizontal component\n",
    "\n",
    ";; the vertical component is governed by\n",
    ";; y(t) = v sin alpha t + h - 1/2 g t^2 \n",
    ";; where g is the gravitational constant of 9.8 m/s^2\n",
    "\n",
    ";; the horizontal component is governed by\n",
    ";; x(t) = v cos alpha t\n",
    ";; assuming it starts at the origin\n",
    "\n",
    ";; First, we want to know when the ball hits the ground\n",
    ";; this is governed by the quadratic equation, so we just need to know when \n",
    ";; y(t)=0 (i.e. for what t_impact is y(t_impact)= 0).\n",
    ";; note that there are two solutions, only one makes sense physically\n",
    "\n",
    "(define square\n",
    "  (lambda (x) (* x x)))\n",
    "\n",
    ";; these are constants that will be useful to us\n",
    "(define gravity 9.8)  ;; in m/s\n",
    "(define pi 3.14159)\n",
    "\n",
    ";; Problem 1\n",
    "\n",
    "(define position\n",
    "  (lambda (a v u t)\n",
    "    ;; p(t) = (1/2)*a*t^2 + v*t + u\n",
    "    (+ (* 0.5 a (square t)) (* v t) u)))\n",
    "\n",
    ";; you need to complete this procedure, then show some test cases\n",
    "\n"
   ]
  },
  {
   "cell_type": "code",
   "execution_count": 2,
   "metadata": {},
   "outputs": [
    {
     "name": "stdout",
     "output_type": "stream",
     "text": [
      "4"
     ]
    }
   ],
   "source": [
    "(display (square 2))"
   ]
  },
  {
   "cell_type": "code",
   "execution_count": 3,
   "metadata": {},
   "outputs": [
    {
     "data": {
      "text/plain": [
       "0.0"
      ]
     },
     "execution_count": 3,
     "metadata": {},
     "output_type": "execute_result"
    }
   ],
   "source": [
    "(position 0 0 0 0)"
   ]
  },
  {
   "cell_type": "code",
   "execution_count": 4,
   "metadata": {},
   "outputs": [
    {
     "data": {
      "text/plain": [
       "20.0"
      ]
     },
     "execution_count": 4,
     "metadata": {},
     "output_type": "execute_result"
    }
   ],
   "source": [
    "(position 0 0 20 0)"
   ]
  },
  {
   "cell_type": "code",
   "execution_count": 5,
   "metadata": {},
   "outputs": [
    {
     "data": {
      "text/plain": [
       "60.0"
      ]
     },
     "execution_count": 5,
     "metadata": {},
     "output_type": "execute_result"
    }
   ],
   "source": [
    "(position 0 5 10 10)"
   ]
  },
  {
   "cell_type": "code",
   "execution_count": 6,
   "metadata": {},
   "outputs": [
    {
     "data": {
      "text/plain": [
       "10.0"
      ]
     },
     "execution_count": 6,
     "metadata": {},
     "output_type": "execute_result"
    }
   ],
   "source": [
    "(position 2 2 2 2)"
   ]
  },
  {
   "cell_type": "code",
   "execution_count": 7,
   "metadata": {},
   "outputs": [
    {
     "data": {
      "text/plain": [
       "92.5"
      ]
     },
     "execution_count": 7,
     "metadata": {},
     "output_type": "execute_result"
    }
   ],
   "source": [
    "(position 5 5 5 5)"
   ]
  },
  {
   "cell_type": "code",
   "execution_count": 52,
   "metadata": {},
   "outputs": [],
   "source": [
    ";; Problem 2\n",
    "\n",
    ";; quadratic formula\n",
    ";; (-b+-√b^2-4ac) / 2a\n",
    "\n",
    "(define root1\n",
    "  (lambda (a b c)\n",
    "    (cond ((> 0 (- (square b) (* 4 a c))) #f)\n",
    "          (else (/ (+ (- b) (sqrt (- (square b) (* 4 a c)))) (* 2 a))))\n",
    "    ))\n",
    "\n",
    "(define root2\n",
    "  (lambda (a b c)\n",
    "    (cond ((> 0 (- (square b) (* 4 a c))) #f)\n",
    "          (else (/ (- (- b) (sqrt (- (square b) (* 4 a c)))) (* 2 a))))\n",
    "    ))\n",
    "\n",
    ";; complete these procedures and show some test cases"
   ]
  },
  {
   "cell_type": "code",
   "execution_count": 53,
   "metadata": {},
   "outputs": [
    {
     "data": {
      "text/plain": [
       "-0.2324081207560018"
      ]
     },
     "execution_count": 53,
     "metadata": {},
     "output_type": "execute_result"
    }
   ],
   "source": [
    "(root1 3 5 1)"
   ]
  },
  {
   "cell_type": "code",
   "execution_count": 54,
   "metadata": {},
   "outputs": [
    {
     "data": {
      "text/plain": [
       "-1.434258545910665"
      ]
     },
     "execution_count": 54,
     "metadata": {},
     "output_type": "execute_result"
    }
   ],
   "source": [
    "(root2 3 5 1)"
   ]
  },
  {
   "cell_type": "code",
   "execution_count": 55,
   "metadata": {},
   "outputs": [
    {
     "data": {
      "text/plain": [
       "#f"
      ]
     },
     "execution_count": 55,
     "metadata": {},
     "output_type": "execute_result"
    }
   ],
   "source": [
    "(root1 5 3 6)"
   ]
  },
  {
   "cell_type": "code",
   "execution_count": 68,
   "metadata": {},
   "outputs": [],
   "source": [
    ";; Problem 3\n",
    "\n",
    ";; we have t, a, delta x, \n",
    "\n",
    ";; sqrt(2(v*t - <x) / a)\n",
    "\n",
    "(define time-to-impact\n",
    "  (lambda (vertical-velocity elevation)\n",
    "    (root2 (* -0.5 gravity) vertical-velocity elevation)\n",
    "    ;; (/ (- vertical-velocity (root1 vertical-velocity gravity elevation) gravity))\n",
    "    ))\n",
    "\n",
    ";; Note that if we want to know when the ball drops to a particular height r \n",
    ";; (for receiver), we have\n",
    "\n",
    "(define time-to-height\n",
    "  (lambda (vertical-velocity elevation target-elevation)\n",
    "    (time-to-impact vertical-velocity (- elevation target-elevation))\n",
    "    ))"
   ]
  },
  {
   "cell_type": "code",
   "execution_count": 70,
   "metadata": {},
   "outputs": [
    {
     "data": {
      "text/plain": [
       "2.456249722394927"
      ]
     },
     "execution_count": 70,
     "metadata": {},
     "output_type": "execute_result"
    }
   ],
   "source": [
    "(time-to-impact 10 5)"
   ]
  },
  {
   "cell_type": "code",
   "execution_count": 71,
   "metadata": {},
   "outputs": [
    {
     "data": {
      "text/plain": [
       "2.456249722394927"
      ]
     },
     "execution_count": 71,
     "metadata": {},
     "output_type": "execute_result"
    }
   ],
   "source": [
    "(time-to-height 10 5 0)"
   ]
  },
  {
   "cell_type": "code",
   "execution_count": 72,
   "metadata": {},
   "outputs": [
    {
     "data": {
      "text/plain": [
       "2.3833312536378775"
      ]
     },
     "execution_count": 72,
     "metadata": {},
     "output_type": "execute_result"
    }
   ],
   "source": [
    "(time-to-height 10 5 1)"
   ]
  },
  {
   "cell_type": "code",
   "execution_count": null,
   "metadata": {},
   "outputs": [],
   "source": [
    ";; Problem 4\n",
    "\n",
    ";; once we can solve for t_impact, we can use it to figure out how far the ball went\n",
    "\n",
    ";; conversion procedure\n",
    "(define degree2radian\n",
    "  (lambda (deg)\n",
    "    (/ (*  deg pi) 180.)))\n",
    "\n",
    "(define travel-distance-simple\n",
    "  (lambda (elevation velocity angle)\n",
    "    YOUR-CODE-HERE))\n",
    "\n",
    ";; let's try this out for some example values.  Note that we are going to \n",
    ";; do everything in metric units, but for quaint reasons it is easier to think\n",
    ";; about things in English units, so we will need some conversions.\n",
    "\n",
    "(define meters-to-feet\n",
    "  (lambda (m)\n",
    "    (/ (* m 39.6) 12)))\n",
    "\n",
    "(define feet-to-meters\n",
    "  (lambda (f)\n",
    "    (/ (* f 12) 39.6)))\n",
    "\n",
    "(define hours-to-seconds\n",
    "  (lambda (h)\n",
    "    (* h 3600)))\n",
    "\n",
    "(define seconds-to-hours\n",
    "  (lambda (s)\n",
    "    (/ s 3600)))\n",
    "\n",
    ";; what is time to impact for a ball hit at a height of 1 meter\n",
    ";; with a velocity of 45 m/s (which is about 100 miles/hour)\n",
    ";; at an angle of 0 (straight horizontal)\n",
    ";; at an angle of (/ pi 2) radians or 90 degrees (straight vertical)\n",
    ";; at an angle of (/ pi 4) radians or 45 degrees\n",
    "\n",
    ";; what is the distance traveled in each case?\n",
    ";; record both in meters and in feet\n"
   ]
  }
 ],
 "metadata": {
  "kernelspec": {
   "display_name": "Calysto Scheme 3",
   "language": "scheme",
   "name": "calysto_scheme"
  },
  "language_info": {
   "codemirror_mode": {
    "name": "scheme"
   },
   "mimetype": "text/x-scheme",
   "name": "scheme",
   "pygments_lexer": "scheme"
  }
 },
 "nbformat": 4,
 "nbformat_minor": 4
}
